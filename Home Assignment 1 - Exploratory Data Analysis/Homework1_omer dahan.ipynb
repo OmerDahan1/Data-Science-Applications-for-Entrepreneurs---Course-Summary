{
 "cells": [
  {
   "cell_type": "markdown",
   "id": "eb8edf8f",
   "metadata": {},
   "source": [
    "# assignmment 1"
   ]
  },
  {
   "cell_type": "markdown",
   "id": "716a9a90",
   "metadata": {},
   "source": [
    "## part 2 - Importing the libraries"
   ]
  },
  {
   "cell_type": "markdown",
   "id": "8f2f727d",
   "metadata": {},
   "source": [
    "### question 4"
   ]
  },
  {
   "cell_type": "code",
   "execution_count": 28,
   "id": "e7b3ed1d",
   "metadata": {},
   "outputs": [],
   "source": [
    "import pandas as pd"
   ]
  },
  {
   "cell_type": "code",
   "execution_count": null,
   "id": "a8420969",
   "metadata": {},
   "outputs": [],
   "source": [
    "import matplotlib.pyplot as plt"
   ]
  },
  {
   "cell_type": "code",
   "execution_count": null,
   "id": "3612d51b",
   "metadata": {},
   "outputs": [],
   "source": [
    "import scipy as sp"
   ]
  },
  {
   "cell_type": "code",
   "execution_count": null,
   "id": "6e7e2468",
   "metadata": {},
   "outputs": [],
   "source": [
    "import numpy as np"
   ]
  },
  {
   "cell_type": "markdown",
   "id": "d2d25a25",
   "metadata": {},
   "source": [
    "## part 3 - DESCRIBE STATISTICS"
   ]
  },
  {
   "cell_type": "code",
   "execution_count": null,
   "id": "5e2d79d6",
   "metadata": {},
   "outputs": [],
   "source": [
    "datafile ='abb_nyc_data.csv'"
   ]
  },
  {
   "cell_type": "code",
   "execution_count": null,
   "id": "8cf038e0",
   "metadata": {},
   "outputs": [],
   "source": [
    "dataset = pd.read_csv(datafile)"
   ]
  },
  {
   "cell_type": "code",
   "execution_count": null,
   "id": "83bbf9c3",
   "metadata": {},
   "outputs": [],
   "source": [
    "dataframe = pd.DataFrame(dataset)"
   ]
  },
  {
   "cell_type": "code",
   "execution_count": null,
   "id": "93d01528",
   "metadata": {
    "scrolled": false
   },
   "outputs": [],
   "source": [
    "dataframe"
   ]
  },
  {
   "cell_type": "markdown",
   "id": "ed54d3dd",
   "metadata": {},
   "source": [
    "### question 5"
   ]
  },
  {
   "cell_type": "code",
   "execution_count": 30,
   "id": "925c2cb7",
   "metadata": {},
   "outputs": [],
   "source": [
    "rows, cols = dataframe.shape"
   ]
  },
  {
   "cell_type": "code",
   "execution_count": null,
   "id": "800b909f",
   "metadata": {},
   "outputs": [],
   "source": [
    "rows"
   ]
  },
  {
   "cell_type": "code",
   "execution_count": null,
   "id": "d0f74752",
   "metadata": {},
   "outputs": [],
   "source": [
    "cols"
   ]
  },
  {
   "cell_type": "markdown",
   "id": "7a203ddb",
   "metadata": {},
   "source": [
    "### question 6"
   ]
  },
  {
   "cell_type": "code",
   "execution_count": null,
   "id": "e8d551e4",
   "metadata": {},
   "outputs": [],
   "source": [
    "dataframe['neighbourhood'].iloc[3:9]"
   ]
  },
  {
   "cell_type": "markdown",
   "id": "2f0be15f",
   "metadata": {},
   "source": [
    "### question 7"
   ]
  },
  {
   "cell_type": "code",
   "execution_count": null,
   "id": "0fbcb478",
   "metadata": {},
   "outputs": [],
   "source": [
    "len(pd.unique(dataframe['room_type']))"
   ]
  },
  {
   "cell_type": "markdown",
   "id": "1e927ac1",
   "metadata": {},
   "source": [
    "### question 8"
   ]
  },
  {
   "cell_type": "code",
   "execution_count": null,
   "id": "58db8c1e",
   "metadata": {},
   "outputs": [],
   "source": [
    "BigPrice = dataframe['price_per_night'] > 1000\n",
    "rows2, cols2 = dataframe[BigPrice].shape\n",
    "rows2"
   ]
  },
  {
   "cell_type": "markdown",
   "id": "918a51bb",
   "metadata": {},
   "source": [
    "### question 9"
   ]
  },
  {
   "cell_type": "code",
   "execution_count": null,
   "id": "8b6a4290",
   "metadata": {},
   "outputs": [],
   "source": [
    "dataframe['date'] = pd.to_datetime(dataframe['last_review'], format='%d/%m/%Y')\n",
    "dataframe['date'].max().strftime('%d/%m/%Y')"
   ]
  },
  {
   "cell_type": "markdown",
   "id": "27194ead",
   "metadata": {},
   "source": [
    "### question 10"
   ]
  },
  {
   "cell_type": "code",
   "execution_count": null,
   "id": "3b34a7a2",
   "metadata": {},
   "outputs": [],
   "source": [
    "dataframe['price_per_night'].std()"
   ]
  },
  {
   "cell_type": "markdown",
   "id": "d4ab06dc",
   "metadata": {},
   "source": [
    "### question 11"
   ]
  },
  {
   "cell_type": "code",
   "execution_count": null,
   "id": "8854fac4",
   "metadata": {},
   "outputs": [],
   "source": [
    "dataframe['number_of_reviews'].min()"
   ]
  },
  {
   "cell_type": "markdown",
   "id": "fb981dcd",
   "metadata": {},
   "source": [
    "### question 12"
   ]
  },
  {
   "cell_type": "code",
   "execution_count": null,
   "id": "8d0b4fb1",
   "metadata": {
    "scrolled": true
   },
   "outputs": [],
   "source": [
    "dataframe['latitude'].max()"
   ]
  },
  {
   "cell_type": "markdown",
   "id": "5afad324",
   "metadata": {},
   "source": [
    "##  Explanation\n",
    "Longitudes increase in value as you move eastward from the Prime Meridian, so a greater longitude value implies that the associated point is located to the east of a point with a smaller longitude value"
   ]
  },
  {
   "cell_type": "markdown",
   "id": "ace9db19",
   "metadata": {},
   "source": [
    "### question 13"
   ]
  },
  {
   "cell_type": "code",
   "execution_count": null,
   "id": "1c555e3b",
   "metadata": {},
   "outputs": [],
   "source": [
    "dataframe['availability_365'].mean()"
   ]
  },
  {
   "cell_type": "markdown",
   "id": "e173d791",
   "metadata": {},
   "source": [
    "### question 14"
   ]
  },
  {
   "cell_type": "code",
   "execution_count": null,
   "id": "e7adc6ff",
   "metadata": {},
   "outputs": [],
   "source": [
    "dataframe['number_of_reviews'].sum()"
   ]
  },
  {
   "cell_type": "markdown",
   "id": "8c1d3dc5",
   "metadata": {},
   "source": [
    "### question 15"
   ]
  },
  {
   "cell_type": "code",
   "execution_count": null,
   "id": "6d065272",
   "metadata": {},
   "outputs": [],
   "source": [
    "Queens = dataframe['district'] == 'Queens'\n",
    "rows3, cols3 = dataframe[Queens].shape\n",
    "rows3"
   ]
  },
  {
   "cell_type": "markdown",
   "id": "991d9304",
   "metadata": {},
   "source": [
    "### question 16"
   ]
  },
  {
   "cell_type": "code",
   "execution_count": null,
   "id": "7d392e47",
   "metadata": {},
   "outputs": [],
   "source": [
    "dataframe['district'].value_counts().idxmax()"
   ]
  },
  {
   "cell_type": "markdown",
   "id": "05b4900e",
   "metadata": {},
   "source": [
    "### question 17"
   ]
  },
  {
   "cell_type": "code",
   "execution_count": null,
   "id": "762e4d8a",
   "metadata": {},
   "outputs": [],
   "source": [
    "dataframe['district'].value_counts().idxmin()"
   ]
  },
  {
   "cell_type": "markdown",
   "id": "99c187bb",
   "metadata": {},
   "source": [
    "##  PART 4 - VISUALIZE STATISTICS"
   ]
  },
  {
   "cell_type": "markdown",
   "id": "c6d6ccbf",
   "metadata": {},
   "source": [
    "### question 18"
   ]
  },
  {
   "cell_type": "code",
   "execution_count": null,
   "id": "1da530f7",
   "metadata": {},
   "outputs": [],
   "source": [
    "goodprice = (dataframe['price_per_night'] >= 1000) & (dataframe['price_per_night'] <= 5000)\n",
    "dataframegood = dataframe[goodprice]\n",
    "dataframegood"
   ]
  },
  {
   "cell_type": "markdown",
   "id": "e31fd0d5",
   "metadata": {},
   "source": [
    "### question 19"
   ]
  },
  {
   "cell_type": "code",
   "execution_count": null,
   "id": "7ec2c314",
   "metadata": {},
   "outputs": [],
   "source": [
    "dataframegood.boxplot(column='price_per_night')\n",
    "plt.title('Box & Whisker Plot for the cost of the appartments')\n",
    "plt.xlabel('price per night')"
   ]
  },
  {
   "cell_type": "markdown",
   "id": "b49cdc29",
   "metadata": {},
   "source": [
    "#### a:  What represents the horizontal line below the box?\n",
    "answer: the appartment with the  minimum price per night \n",
    "\n",
    "#### b:  What represents the horizontal line above the box?\n",
    "\n",
    "answer: Let Q1 be the 25th Precentile and Q3 be the 75th Precentile.\n",
    "because our maximum is bigger than 1.5*(Q3 - Q1), by the definitions of Box & Whisker Plot the horizontal line above the box represented by the value 1.5*(Q3 - Q1).\n",
    "\n",
    "#### c:  What represents the horizontal line which goes through the box?\n",
    "\n",
    "answer: the median appartment sorted by price per night "
   ]
  },
  {
   "cell_type": "markdown",
   "id": "fdcbff40",
   "metadata": {},
   "source": [
    "### question 20"
   ]
  },
  {
   "cell_type": "code",
   "execution_count": null,
   "id": "06346728",
   "metadata": {},
   "outputs": [],
   "source": [
    "plt.hist(dataframegood['price_per_night'], bins = 10)\n",
    "plt.title('Histogram of the frequencies of appartments by their cost')\n",
    "plt.xlabel('price per night')\n",
    "plt.ylabel('number of appartments')\n",
    "plt.show()"
   ]
  },
  {
   "cell_type": "markdown",
   "id": "44aad44e",
   "metadata": {},
   "source": [
    "### question 21"
   ]
  },
  {
   "cell_type": "code",
   "execution_count": null,
   "id": "e01683da",
   "metadata": {},
   "outputs": [],
   "source": [
    "room_types_by_num_of_reviews = dataframe.groupby('room_type')['number_of_reviews'].sum()\n",
    "room_types_by_num_of_reviews.plot(kind='bar')\n",
    "plt.title('Bar Chart - Number of Reviews by Room Type')\n",
    "plt.xlabel('Room Type')\n",
    "plt.ylabel('number of reviews')\n",
    "plt.show()"
   ]
  },
  {
   "cell_type": "code",
   "execution_count": null,
   "id": "20b92943",
   "metadata": {},
   "outputs": [],
   "source": []
  },
  {
   "cell_type": "code",
   "execution_count": null,
   "id": "a439b5dc",
   "metadata": {},
   "outputs": [],
   "source": []
  },
  {
   "cell_type": "code",
   "execution_count": null,
   "id": "c0b1d6ea",
   "metadata": {},
   "outputs": [],
   "source": []
  }
 ],
 "metadata": {
  "kernelspec": {
   "display_name": "Python 3 (ipykernel)",
   "language": "python",
   "name": "python3"
  },
  "language_info": {
   "codemirror_mode": {
    "name": "ipython",
    "version": 3
   },
   "file_extension": ".py",
   "mimetype": "text/x-python",
   "name": "python",
   "nbconvert_exporter": "python",
   "pygments_lexer": "ipython3",
   "version": "3.11.7"
  }
 },
 "nbformat": 4,
 "nbformat_minor": 5
}
