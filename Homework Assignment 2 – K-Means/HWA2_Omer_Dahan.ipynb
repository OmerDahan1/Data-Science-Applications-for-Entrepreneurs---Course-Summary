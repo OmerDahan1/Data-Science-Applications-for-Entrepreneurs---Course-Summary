{
 "cells": [
  {
   "cell_type": "markdown",
   "id": "f6ee7f86",
   "metadata": {},
   "source": [
    "# assignmment 2"
   ]
  },
  {
   "cell_type": "markdown",
   "id": "65a7db53",
   "metadata": {},
   "source": [
    "## PART 1: PREREQUISITES"
   ]
  },
  {
   "cell_type": "markdown",
   "id": "6b781f9f",
   "metadata": {},
   "source": [
    "### TASK 2: IMPORT LIBRARIES & MODULES"
   ]
  },
  {
   "cell_type": "code",
   "execution_count": null,
   "id": "f13e548f",
   "metadata": {},
   "outputs": [],
   "source": [
    "import pandas as pd"
   ]
  },
  {
   "cell_type": "code",
   "execution_count": null,
   "id": "a2589c53",
   "metadata": {},
   "outputs": [],
   "source": [
    "import matplotlib as mpl"
   ]
  },
  {
   "cell_type": "code",
   "execution_count": null,
   "id": "cd0c89d5",
   "metadata": {},
   "outputs": [],
   "source": [
    "import scipy as sp"
   ]
  },
  {
   "cell_type": "code",
   "execution_count": null,
   "id": "a98ec7c0",
   "metadata": {},
   "outputs": [],
   "source": [
    "import numpy as np"
   ]
  },
  {
   "cell_type": "code",
   "execution_count": null,
   "id": "79dfa44b",
   "metadata": {},
   "outputs": [],
   "source": [
    "import matplotlib.pyplot as plt"
   ]
  },
  {
   "cell_type": "code",
   "execution_count": null,
   "id": "ee076e2d",
   "metadata": {},
   "outputs": [],
   "source": [
    "from sklearn.cluster import KMeans"
   ]
  },
  {
   "cell_type": "code",
   "execution_count": null,
   "id": "d60de4d1",
   "metadata": {},
   "outputs": [],
   "source": [
    "from sklearn.metrics import silhouette_score"
   ]
  },
  {
   "cell_type": "markdown",
   "id": "ae5a905c",
   "metadata": {},
   "source": [
    "#### DATA PREPERATION"
   ]
  },
  {
   "cell_type": "code",
   "execution_count": null,
   "id": "a0a8c250",
   "metadata": {},
   "outputs": [],
   "source": [
    "input_file = 'air_traffic.csv'"
   ]
  },
  {
   "cell_type": "code",
   "execution_count": null,
   "id": "02a8ad63",
   "metadata": {},
   "outputs": [],
   "source": [
    "def get_df(file):\n",
    "    ds = pd.read_csv(file)\n",
    "    df = pd.DataFrame(ds)\n",
    "    df = df.fillna(0)\n",
    "    return df\n",
    "\n",
    "df = get_df(input_file)"
   ]
  },
  {
   "cell_type": "code",
   "execution_count": null,
   "id": "01ad65d4",
   "metadata": {},
   "outputs": [],
   "source": [
    "df"
   ]
  },
  {
   "cell_type": "markdown",
   "id": "47f16f71",
   "metadata": {},
   "source": [
    "#### TASK 3: EXPLORE THE DATA"
   ]
  },
  {
   "attachments": {},
   "cell_type": "markdown",
   "id": "f3cd76f7",
   "metadata": {},
   "source": [
    "##### question 5: \n",
    "Based on how many cases will the algorithm perform the clustering? (Provide a numerical answer)"
   ]
  },
  {
   "cell_type": "markdown",
   "id": "670ff976",
   "metadata": {},
   "source": [
    "15007 cases, because we have 15007 data points"
   ]
  },
  {
   "cell_type": "markdown",
   "id": "d8ef73ba",
   "metadata": {},
   "source": [
    "##### question 6: \n",
    "Based on how many dimensions will the algorithm perform the clustering? (Provide a numerical answer)."
   ]
  },
  {
   "cell_type": "markdown",
   "id": "06703316",
   "metadata": {},
   "source": [
    "16 dimensions, because e have 16 characteristics"
   ]
  },
  {
   "cell_type": "markdown",
   "id": "36752b32",
   "metadata": {},
   "source": [
    "##### question 7: \n",
    "How are the data points represented in the data? (Provide a verbal answer that will also include an explanation on what the values ‘0’ and ‘1’ represent)"
   ]
  },
  {
   "cell_type": "markdown",
   "id": "5c5631fc",
   "metadata": {},
   "source": [
    "the data point i represented by a 16 dimensions vector such that each value in this vector is ‘0’ or ‘1’.\n",
    "'0' - the characteristic is not correct\n",
    "'1' the characteristic is correct"
   ]
  },
  {
   "cell_type": "markdown",
   "id": "cd701c4c",
   "metadata": {},
   "source": [
    "## PART 2: BUILDING A K-MEANS MODEL"
   ]
  },
  {
   "cell_type": "markdown",
   "id": "be712647",
   "metadata": {},
   "source": [
    "### TASK 4: BUILDING THE MODEL"
   ]
  },
  {
   "cell_type": "markdown",
   "id": "c2a95d69",
   "metadata": {},
   "source": [
    "#### question 8:"
   ]
  },
  {
   "cell_type": "code",
   "execution_count": null,
   "id": "15eff5df",
   "metadata": {},
   "outputs": [],
   "source": [
    "distance_metric = 'euclidean'\n",
    "K = 5\n",
    "k_range = np.arange(2, 11, 1)\n",
    "def get_clusterer (points, k):\n",
    "    clusterer = KMeans (n_clusters = k, n_init = 'auto')\n",
    "    preds = clusterer.fit_predict(points)\n",
    "    return clusterer, preds\n",
    "\n",
    "# Call the function\n",
    "clusterer, preds = get_clusterer(df, K)"
   ]
  },
  {
   "cell_type": "code",
   "execution_count": null,
   "id": "442c651c",
   "metadata": {},
   "outputs": [],
   "source": [
    "def get_silhouettes (df):\n",
    "    Silhouettes = []\n",
    "    for K in k_range:\n",
    "        clusterer, preds = get_clusterer (df, K)\n",
    "        Silhouettes.append(silhouette_score(df, preds, metric = distance_metric))\n",
    "    return Silhouettes\n",
    "\n",
    "# Call the function\n",
    "Silhouettes = get_silhouettes (df)\n",
    "Silhouettes"
   ]
  },
  {
   "cell_type": "code",
   "execution_count": null,
   "id": "f1b7cade",
   "metadata": {},
   "outputs": [],
   "source": [
    "def show_silhouettes (Silhouettes):\n",
    "    plt.plot(k_range, Silhouettes, 'bx-')\n",
    "    plt.xlabel('Number of K')\n",
    "    plt.ylabel('Silhouette Value')\n",
    "    plt.title('Silhouette by Number of K')\n",
    "    plt.show()\n",
    "    \n",
    "# Call the function\n",
    "show_silhouettes (Silhouettes)\n",
    "# We add 2 to the index because the range starts from 0 and the first number in it is 2.\n",
    "number_of_clusters = Silhouettes.index(max(Silhouettes)) + 2 \n",
    "print(f\"according to the diagram, the best number of clusters is k = {number_of_clusters}\")"
   ]
  },
  {
   "cell_type": "markdown",
   "id": "84d3deaa",
   "metadata": {},
   "source": [
    "#### question 9:"
   ]
  },
  {
   "cell_type": "code",
   "execution_count": null,
   "id": "cf20e9df",
   "metadata": {},
   "outputs": [],
   "source": [
    "cluster = get_clusterer(df, number_of_clusters)[0]\n",
    "first_3 = cluster.labels_[0:3]\n",
    "last_3 = cluster.labels_[-3:]\n",
    "print(\"First 3 data points: \", first_3)\n",
    "print(\"Last 3 data points: \", last_3)"
   ]
  },
  {
   "cell_type": "markdown",
   "id": "82069052",
   "metadata": {},
   "source": [
    "#### question 10:"
   ]
  },
  {
   "cell_type": "code",
   "execution_count": null,
   "id": "eb9473d3",
   "metadata": {},
   "outputs": [],
   "source": [
    "indexes = clusterer.feature_names_in_\n",
    " # Define a function that will show the model's results numerically and visually\n",
    "def show_results (clusterer):\n",
    "    centers = clusterer.cluster_centers_\n",
    "    for i in range(number_of_clusters):\n",
    "        plt.plot(centers[i,:])\n",
    "        \n",
    "# Call the function\n",
    "show_results(clusterer)"
   ]
  },
  {
   "attachments": {},
   "cell_type": "markdown",
   "id": "9736a294",
   "metadata": {},
   "source": [
    "the main characteristics of the blue cluster are:\n",
    "**characteristic 1: ** is_more_than_100_passengers?\t\n",
    "**characteristic 13: ** is_from_america?\n",
    "\n",
    "the main characteristics of the green cluster are:\n",
    "**characteristic 12: ** other_airline?\t\n",
    "**characteristic 13: ** is_from_america?\n",
    "\n",
    "the main characteristics of the red cluster are:\n",
    "**characteristic 12: ** other_airline?\t\n",
    "**characteristic 14: ** is_international_airline?\n",
    "\n",
    "the main characteristics of the yellow cluster are:\n",
    "**characteristic 1: ** is_more_than_100_passengers?\t\n",
    "**characteristic 13: ** is_from_america?"
   ]
  },
  {
   "attachments": {},
   "cell_type": "markdown",
   "id": "9677dfe8",
   "metadata": {},
   "source": [
    "the main characteristics of the blue cluster are:\n",
    "**characteristic 1: ** is_more_than_100_passengers?\t\n",
    "**characteristic 13: ** is_from_america?\n",
    "\n",
    "the main characteristics of the green cluster are:\n",
    "**characteristic 12: ** other_airline?\t\n",
    "**characteristic 13: ** is_from_america?\n",
    "\n",
    "the main characteristics of the red cluster are:\n",
    "**characteristic 12: ** other_airline?\t\n",
    "**characteristic 14: ** is_international_airline?\n",
    "\n",
    "the main characteristics of the yellow cluster are:\n",
    "**characteristic 1: ** is_more_than_100_passengers?\t\n",
    "**characteristic 13: ** is_from_america?\n",
    "**characteristic 16: ** is_departing?"
   ]
  },
  {
   "attachments": {},
   "cell_type": "markdown",
   "id": "d25e7350",
   "metadata": {},
   "source": [
    "#### quetion 11"
   ]
  },
  {
   "attachments": {},
   "cell_type": "markdown",
   "id": "3f992fb4",
   "metadata": {},
   "source": [
    "I would suggest 4 campaigns:\n",
    "\n",
    "1. Blue Cluster:\n",
    "\n",
    "Business Application: The blue cluster, which includes flights with more than 100 passengers from America, could be used to target marketing campaigns towards American travelers who prefer larger flights. Airlines could use this information to optimize their marketing strategies, such as offering promotions for flights with larger passenger capacity or designing targeted ad campaigns for American travelers.\n",
    "\n",
    "2. Green Cluster:\n",
    "\n",
    "Business Application: The green cluster, which includes flights operated by other airlines and originating from America, could be used to identify competitors and inform competitive analysis. Airlines could use this information to assess market saturation in specific regions, identify opportunities for expansion or partnerships, and adjust pricing and service offerings accordingly to remain competitive.\n",
    "\n",
    "3. Red Cluster:\n",
    "\n",
    "Business Application: The red cluster, which includes flights operated by international airlines and not operated by other airlines, could be used to inform decisions related to inter-airline partnerships, mergers, or acquisitions. Airlines could use this information to identify potential partners or acquisition targets, analyze market share and pricing strategies, and inform potential expansion plans.\n",
    "\n",
    "4. Yellow Cluster:\n",
    "\n",
    "Business Application: The yellow cluster, which includes flights with more than 100 passengers from America, could be used to inform decisions related to route planning and optimization. Airlines could use this information to identify which routes are in high demand and optimize schedules accordingly, such as increasing the frequency of flights or adjusting departure times to meet passenger demand."
   ]
  }
 ],
 "metadata": {
  "kernelspec": {
   "display_name": "Python 3 (ipykernel)",
   "language": "python",
   "name": "python3"
  },
  "language_info": {
   "codemirror_mode": {
    "name": "ipython",
    "version": 3
   },
   "file_extension": ".py",
   "mimetype": "text/x-python",
   "name": "python",
   "nbconvert_exporter": "python",
   "pygments_lexer": "ipython3",
   "version": "3.10.9"
  }
 },
 "nbformat": 4,
 "nbformat_minor": 5
}
