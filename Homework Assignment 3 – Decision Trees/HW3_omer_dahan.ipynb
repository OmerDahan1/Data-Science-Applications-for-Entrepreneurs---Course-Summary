{
 "cells": [
  {
   "attachments": {},
   "cell_type": "markdown",
   "id": "5246a777",
   "metadata": {},
   "source": [
    "# Classification"
   ]
  },
  {
   "attachments": {},
   "cell_type": "markdown",
   "id": "82cad319",
   "metadata": {},
   "source": [
    "# TASK 2: IMPORTING LIBRARIES & MODELS"
   ]
  },
  {
   "cell_type": "code",
   "execution_count": null,
   "id": "ad22d1ff",
   "metadata": {
    "ExecuteTime": {
     "end_time": "2023-05-25T11:05:17.721874Z",
     "start_time": "2023-05-25T11:05:14.958989Z"
    }
   },
   "outputs": [],
   "source": [
    "\n",
    "# Core libraries\n",
    "import pandas as pd\n",
    "import numpy as np\n",
    "\n",
    "# Algoriym libraries & modules\n",
    "from sklearn.tree import DecisionTreeClassifier\n",
    "from sklearn import tree\n",
    "from sklearn import metrics\n",
    "\n",
    "# Visualization libraries & modules (Optional)\n",
    "import pydotplus\n",
    "from IPython.display import Image"
   ]
  },
  {
   "attachments": {},
   "cell_type": "markdown",
   "metadata": {
    "collapsed": false
   },
   "source": [
    "# TASK 3: EXPLORING THE DATA"
   ]
  },
  {
   "attachments": {},
   "cell_type": "markdown",
   "id": "e4b10f83",
   "metadata": {},
   "source": [
    "### Data Preparation"
   ]
  },
  {
   "cell_type": "code",
   "execution_count": null,
   "id": "38d6fe4c",
   "metadata": {
    "ExecuteTime": {
     "end_time": "2023-05-25T11:05:29.032992Z",
     "start_time": "2023-05-25T11:05:29.024094Z"
    }
   },
   "outputs": [],
   "source": [
    "# Define input file\n",
    "input_file = 'bank_marketing.csv'\n",
    "\n",
    "# Define class labels\n",
    "df_class_names = ['Deposit','Undeposit']"
   ]
  },
  {
   "cell_type": "code",
   "execution_count": null,
   "id": "a79b3e59",
   "metadata": {
    "ExecuteTime": {
     "end_time": "2023-05-25T12:14:37.574936Z",
     "start_time": "2023-05-25T12:14:37.571292Z"
    }
   },
   "outputs": [],
   "source": [
    "# Define a function to create our dataframe\n",
    "\n",
    "def get_df(file):\n",
    "    df = pd.read_csv(file)\n",
    "    return df\n",
    "\n",
    "# Call the function\n",
    "df = get_df(input_file)\n",
    "row_no,col_no = df.shape\n"
   ]
  },
  {
   "cell_type": "code",
   "execution_count": null,
   "id": "1fa0d445",
   "metadata": {
    "ExecuteTime": {
     "end_time": "2023-05-25T12:09:10.512442Z",
     "start_time": "2023-05-25T12:09:10.507233Z"
    }
   },
   "outputs": [],
   "source": [
    "df"
   ]
  },
  {
   "attachments": {},
   "cell_type": "markdown",
   "metadata": {
    "collapsed": false
   },
   "source": [
    "### Question 5: Based\ton\thow\tmany\tcustomers the\talgorithm\twill\tbe\ttrained\tand\ttested?"
   ]
  },
  {
   "cell_type": "code",
   "execution_count": null,
   "metadata": {
    "ExecuteTime": {
     "end_time": "2023-05-25T12:10:10.245139Z",
     "start_time": "2023-05-25T12:10:10.238206Z"
    },
    "collapsed": false
   },
   "outputs": [],
   "source": [
    "train_size = len(df[df['train'] == 1])\n",
    "test_size = len(df[df['train'] == 0])\n",
    "\n",
    "print(f\"Number of customers the algorithm will be trained on: {train_size}\")\n",
    "print(f\"Number of customers the algorithm will be tested on: {test_size}\")"
   ]
  },
  {
   "attachments": {},
   "cell_type": "markdown",
   "metadata": {
    "collapsed": false
   },
   "source": [
    "### Question 6: How\tmany\tfeatures each\tcustomer\tis\trepresented\tby?"
   ]
  },
  {
   "cell_type": "code",
   "execution_count": null,
   "metadata": {
    "ExecuteTime": {
     "end_time": "2023-05-25T12:00:00.237152Z",
     "start_time": "2023-05-25T12:00:00.233457Z"
    },
    "collapsed": false
   },
   "outputs": [],
   "source": [
    "print(f\"Number of features each customer is represented by: {col_no-2}\")"
   ]
  },
  {
   "attachments": {},
   "cell_type": "markdown",
   "metadata": {
    "collapsed": false
   },
   "source": [
    "### Question 7: Which features  are\tcategorized\tas\tpredictors?"
   ]
  },
  {
   "cell_type": "code",
   "execution_count": null,
   "id": "61110c67",
   "metadata": {
    "ExecuteTime": {
     "end_time": "2023-05-25T12:04:32.908154Z",
     "start_time": "2023-05-25T12:04:32.903861Z"
    }
   },
   "outputs": [],
   "source": [
    "# Define a function that shows the features (without the Train column)\n",
    "def get_feature_names(dataframe):\n",
    "    names = list(dataframe.columns)\n",
    "    features_names = names[:-1]\n",
    "    return features_names\n",
    "\n",
    "# Define a function that shows the predictors (without the target column)\n",
    "def get_predictors_names(dataframe):\n",
    "    names = list(dataframe.columns)\n",
    "    predictors_names = names[:-2]\n",
    "    return predictors_names"
   ]
  },
  {
   "cell_type": "code",
   "execution_count": null,
   "id": "1f092be2",
   "metadata": {},
   "outputs": [],
   "source": [
    "df_features_names = get_feature_names(df)\n",
    "df_features_names"
   ]
  },
  {
   "cell_type": "code",
   "execution_count": null,
   "id": "5099d975",
   "metadata": {
    "ExecuteTime": {
     "end_time": "2023-05-25T12:05:39.801257Z",
     "start_time": "2023-05-25T12:05:39.796510Z"
    }
   },
   "outputs": [],
   "source": [
    "# Call the function\n",
    "df_predictors_names = get_predictors_names(df)\n",
    "print(\"The following features are categorized as predictors:\")\n",
    "for i in df_predictors_names:\n",
    "    print(i)"
   ]
  },
  {
   "attachments": {},
   "cell_type": "markdown",
   "metadata": {
    "collapsed": false
   },
   "source": [
    "### Question 8: Which feature is categorized as the target?\n"
   ]
  },
  {
   "cell_type": "code",
   "execution_count": null,
   "id": "6f2de48a",
   "metadata": {},
   "outputs": [],
   "source": [
    "df_features_names[-1:]"
   ]
  },
  {
   "attachments": {},
   "cell_type": "markdown",
   "id": "9b09c9d2",
   "metadata": {},
   "source": [
    "### Question 9: build a Decision Tree model\n"
   ]
  },
  {
   "attachments": {},
   "cell_type": "markdown",
   "id": "4853ef60",
   "metadata": {},
   "source": [
    "#\tTASK 4:\tBUILDING\tTHE MODEL"
   ]
  },
  {
   "attachments": {},
   "cell_type": "markdown",
   "id": "caeb3de0",
   "metadata": {},
   "source": [
    "#### Step 1: Saving the data in a multidimensional array"
   ]
  },
  {
   "cell_type": "code",
   "execution_count": null,
   "id": "4b889552",
   "metadata": {},
   "outputs": [],
   "source": [
    "# Define a function that saves the data in an array\n",
    "def get_nd(dataframe):\n",
    "    nd = dataframe.values\n",
    "    return nd\n",
    "\n",
    "# Call the function\n",
    "nd_values = get_nd(df)\n",
    "\n",
    "# Show the values\n",
    "nd_values"
   ]
  },
  {
   "attachments": {},
   "cell_type": "markdown",
   "id": "3a298a7c",
   "metadata": {},
   "source": [
    "#### Step 2: Split array into train and test"
   ]
  },
  {
   "cell_type": "code",
   "execution_count": null,
   "id": "c1785486",
   "metadata": {},
   "outputs": [],
   "source": [
    "# Define a function that split the array into train and test data\n",
    "def get_nd_train_test(ndarray, train_index):\n",
    "    nd_train = ndarray[ndarray[:,col_no-1] == 1]\n",
    "    nd_test = ndarray[ndarray[:,col_no-1] == 0]\n",
    "    return nd_train, nd_test\n",
    "\n",
    "# Call the function\n",
    "nd_train_data, nd_test_data = get_nd_train_test (nd_values, col_no)\n",
    "\n",
    "# Show the train data\n",
    "nd_train_data"
   ]
  },
  {
   "attachments": {},
   "cell_type": "markdown",
   "id": "b1970d87",
   "metadata": {},
   "source": [
    "#### Step 3: Predictors and label separations<br><br>(X - includes the predictors columns; Y - includes the label (target) column)"
   ]
  },
  {
   "cell_type": "code",
   "execution_count": null,
   "id": "ffcc70a9",
   "metadata": {},
   "outputs": [],
   "source": [
    "# Define a function that separates the predictors columns from the label (target) column\n",
    "def get_XY(ndarray):\n",
    "    X = ndarray[:,:-2]\n",
    "    Y = ndarray[:,-2]\n",
    "    return X, Y\n",
    "\n",
    "# Call the function\n",
    "x_train, y_train = get_XY (nd_train_data)\n",
    "x_test, y_test = get_XY (nd_test_data)"
   ]
  },
  {
   "attachments": {},
   "cell_type": "markdown",
   "id": "a5bbbe7c",
   "metadata": {},
   "source": [
    "#### Step 4: Build model with training data"
   ]
  },
  {
   "cell_type": "code",
   "execution_count": null,
   "id": "96fef329",
   "metadata": {},
   "outputs": [],
   "source": [
    "# Define a function that will create a decision tree that classifies cars (characterized by the predictors) with similar label (target) (Acceptable / Unacceptable) \n",
    "def get_clf(X,Y):\n",
    "    clf = DecisionTreeClassifier(criterion=\"gini\", min_impurity_decrease = 0.00065)\n",
    "    clf.fit(X, Y)\n",
    "    return clf\n",
    "\n",
    "# Call the function\n",
    "dt_clf = get_clf(x_train,y_train)\n"
   ]
  },
  {
   "attachments": {},
   "cell_type": "markdown",
   "id": "423cbbe2",
   "metadata": {},
   "source": [
    "#### Step 5: Make predictions for testing data"
   ]
  },
  {
   "cell_type": "code",
   "execution_count": null,
   "id": "1f9b598b",
   "metadata": {},
   "outputs": [],
   "source": [
    "# Define a function that takes the trained model and test it on unseen data (i.e., test data)\n",
    "def get_pred(classifier, X):\n",
    "    y_pred = classifier.predict(X)\n",
    "    return y_pred\n",
    "\n",
    "# Call the function\n",
    "dt_y_pred = get_pred(dt_clf, x_test)"
   ]
  },
  {
   "attachments": {},
   "cell_type": "markdown",
   "id": "bbb4169d",
   "metadata": {},
   "source": [
    "### Visualize the Model (Optional)"
   ]
  },
  {
   "cell_type": "code",
   "execution_count": null,
   "id": "5fdb2a2b",
   "metadata": {},
   "outputs": [],
   "source": [
    "# Define a function that transform the model results from numerical values into a graph\n",
    "def get_graph (classifier, predictors_names):\n",
    "    dot_data = tree.export_graphviz(classifier, out_file=None,\n",
    "                                    feature_names=predictors_names, \n",
    "                                    class_names=df_class_names)\n",
    "    graph = pydotplus.graph_from_dot_data(dot_data)\n",
    "    return graph\n",
    "\n",
    "# Call the function\n",
    "dt_graph = get_graph(dt_clf,df_predictors_names)"
   ]
  },
  {
   "cell_type": "code",
   "execution_count": null,
   "id": "f073b45a",
   "metadata": {},
   "outputs": [],
   "source": [
    "# Define a function that saves the graph into PDF and JPEG files\n",
    "def save_graph(graph):\n",
    "    graph.write_pdf('bank.pdf')\n",
    "    graph.write_jpg('bank.jpg')\n",
    "    \n",
    "# Call the function\n",
    "save_graph(dt_graph)"
   ]
  },
  {
   "cell_type": "code",
   "execution_count": null,
   "id": "83870f41",
   "metadata": {},
   "outputs": [],
   "source": [
    "# Define a function that creates an image of the decision tree graph\n",
    "def get_image(graph):\n",
    "    image=Image(graph.create_png())\n",
    "    return image\n",
    "\n",
    "# Call the function\n",
    "graph_image = get_image(dt_graph)\n",
    "\n",
    "# Show the image\n",
    "graph_image"
   ]
  },
  {
   "attachments": {},
   "cell_type": "markdown",
   "id": "951b675c",
   "metadata": {},
   "source": [
    "### Question 10: Part of the predictors\tthat were included in the data are not presented in\tthe\tdecision tree. Explain why (Provide\ta verbal answer)"
   ]
  },
  {
   "attachments": {},
   "cell_type": "markdown",
   "id": "0ae19169",
   "metadata": {},
   "source": [
    "because their gini value is lower then the value of the \"min_impurity_decrease\" (0.00065)\n"
   ]
  },
  {
   "attachments": {},
   "cell_type": "markdown",
   "id": "ceec1ba5",
   "metadata": {},
   "source": [
    "### Question 11: The Gini value\tshown in the first tree node of\tthe\tdecision tree is 0.209, explain\twhat represents this value (Provide\ta verbal answer)"
   ]
  },
  {
   "attachments": {},
   "cell_type": "markdown",
   "id": "112605ab",
   "metadata": {},
   "source": [
    " Represents the probability of the 'season' predictor being classified incorrectly when\n",
    "selected randomly."
   ]
  },
  {
   "attachments": {},
   "cell_type": "markdown",
   "id": "bc721d3e",
   "metadata": {},
   "source": [
    "### Question 12: The attribute\tthat was selected for the root of the tree is ‘season’. Provide\ta detailed calculation of the Gini index for this attribute\t(Hint: you can use Excel, Python or\tperform\ta manual calculation)."
   ]
  },
  {
   "cell_type": "code",
   "execution_count": null,
   "id": "5fe920a2",
   "metadata": {},
   "outputs": [],
   "source": [
    "train_df = df[df['train'] == 1]\n",
    "seasons =  range(1, 5)\n",
    "seasons_ginis = []\n",
    "for season in seasons:\n",
    "    season_occurrences = train_df[train_df['season'] == season]\n",
    "    total_occurrences = len(season_occurrences)\n",
    "    true_occurrences = season_occurrences[season_occurrences['deposit'] == 1]\n",
    "    false_occurrences = season_occurrences[season_occurrences['deposit'] == 0]\n",
    "    true_ratio = len(true_occurrences) / total_occurrences\n",
    "    false_ratio = len(false_occurrences) / total_occurrences\n",
    "    gini = (1 - (true_ratio ** 2) - (false_ratio ** 2)) * total_occurrences / len(train_df)\n",
    "    seasons_ginis.append(gini)\n",
    "\n",
    "gini_for_seasons = np.sum(seasons_ginis)\n",
    "print(f\"Seasons ginis: {gini_for_seasons}\")"
   ]
  },
  {
   "attachments": {},
   "cell_type": "markdown",
   "id": "6dfdbf6e",
   "metadata": {},
   "source": [
    "### Question 13: Below are two new customers that will be reached byno the bank's\tcampaign. Based\ton the decision\ttree determine for each\tof them\twhether\tit will\tdeposit\tmoney or not (Provide a\tverbal and detailed\tanswer):                   ● A customer\tthat is\tolder than 65, will\tbe reached by cellular phone, at the end of\ta week during the Winter or\tSpring.  ● A customer that is older\tthan 25, will be reached by\ttelephone, at the beginning\tof a week during the Summer or Autumn.\t"
   ]
  },
  {
   "attachments": {},
   "cell_type": "markdown",
   "id": "7203a663",
   "metadata": {},
   "source": [
    "a. we will go through the tree and check: because it's on the Winter or Spring, we will go from the root to the left subtree. now, because the customer is older than 65 we will go to the right and we can see that he is a leaf and the prediction is 'Undeposit'.\n",
    "b. we will go through the tree and check: because it's on the autumn, we will go from the root to the right subtree. now, because the part of the week in which the customer was reached by the campaign is at the beginning of the week, we will go to the left. now because the customer is 80 years old, we will go to the right twice and we can see that he is a leaf and the prediction is 'Undeposit'."
   ]
  },
  {
   "attachments": {},
   "cell_type": "markdown",
   "id": "f428bf52",
   "metadata": {},
   "source": [
    "### TASK\t5: Evaluate The Model"
   ]
  },
  {
   "attachments": {},
   "cell_type": "markdown",
   "id": "dd24851f",
   "metadata": {},
   "source": [
    " ### Question 14: Use the Accuracy measure to evaluate the mode\tyou\thave created in Task 4.\n"
   ]
  },
  {
   "cell_type": "code",
   "execution_count": null,
   "id": "d1dca498",
   "metadata": {},
   "outputs": [],
   "source": [
    "# Define a function that calculates the accuracy\n",
    "def get_accuracy(test, pred):\n",
    "    accuracy = metrics.accuracy_score(test,pred)\n",
    "    return accuracy\n",
    "\n",
    "# Call the function\n",
    "dt_clf_accuracy = get_accuracy(y_test,dt_y_pred)\n",
    "\n",
    "# Show the Accuracy value\n",
    "dt_clf_accuracy"
   ]
  },
  {
   "attachments": {},
   "cell_type": "markdown",
   "id": "4b5b57a1",
   "metadata": {},
   "source": [
    " ### Question 15: Describe,\tin\tthe\tcontext\tof the model\tyou\thave\tbuilt,\tthe\tmeaning\tof\tthe\tnumerical\tresult you\thave\treceived\tfor\tthe\tAccuracy\tmeasure\t(Provide\ta\tverbal\tanswer\tusing\tterms\tsuch\tas\tclassification\tmatrix,\tTrue\tPositive,\tetc.)"
   ]
  },
  {
   "attachments": {},
   "cell_type": "markdown",
   "id": "2c618099",
   "metadata": {},
   "source": [
    "The accuracy score represents the proportion of correct predictions made by the model. It measures how well the model performs in classifying instances correctly. A high accuracy score means that the model has made a large number of correct predictions relative to the total number of instances. It is calculated using a classification matrix that includes true positives, true negatives, false positives, and false negatives. However, it's important to consider other evaluation metrics, such as precision, recall, and F1 score, for a more comprehensive understanding of the model's performance."
   ]
  },
  {
   "attachments": {},
   "cell_type": "markdown",
   "id": "6907541b",
   "metadata": {},
   "source": [
    " ### Question 16: Describe\tone\tprominent\tdisadvantage of\tthe\tAccuracy\tmeasure\tyou\thave\tcalculated."
   ]
  },
  {
   "attachments": {},
   "cell_type": "markdown",
   "id": "0e690a5e",
   "metadata": {},
   "source": [
    "One prominent disadvantage of the accuracy measure is that it can be misleading when dealing with imbalanced datasets. An imbalanced dataset is one where the number of instances in different classes is significantly unequal. In such cases, the accuracy score may be high even if the model is performing poorly in predicting the minority class.\n",
    "\n",
    "For example, consider a dataset with 95% instances belonging to Class A and only 5% instances belonging to Class B. A model that simply predicts all instances as Class A would achieve an accuracy of 95%. However, this high accuracy does not reflect the model's ability to correctly identify instances of Class B, which may be of greater interest or importance."
   ]
  },
  {
   "attachments": {},
   "cell_type": "markdown",
   "id": "b9d4eca4",
   "metadata": {},
   "source": [
    " ### Question 17: Explain\thow\tmeasures\tof\tSensitivity\t(TPR)\tand\tSpecificity\t(TNR)\tcan\tbe\tused\tpractically\tand\twisely\tin\tthe\tcontext\tof\tthe\tbank's\tmarketing\tcampaign\t(Provide\ta\tverbal\tanswer,\tno\tneed\tto\tcalculate\tthe\tmeasures)."
   ]
  },
  {
   "attachments": {},
   "cell_type": "markdown",
   "id": "3357235c",
   "metadata": {},
   "source": [
    "In the context of a bank's marketing campaign, sensitivity (TPR) measures the effectiveness of targeting the desired customers who are likely to respond positively. It indicates the campaign's ability to reach and engage the target audience, maximizing the chances of attracting potential customers. Specificity (TNR) measures the efficiency of avoiding customers who are less likely to respond positively, minimizing wasteful expenditures and maintaining a positive customer experience. By considering both sensitivity and specificity, the bank can strike a balance between maximizing reach and targeting the right audience, leading to a successful marketing campaign.\n",
    "\n",
    "\n",
    "\n",
    "\n"
   ]
  }
 ],
 "metadata": {
  "kernelspec": {
   "display_name": "Python 3 (ipykernel)",
   "language": "python",
   "name": "python3"
  },
  "language_info": {
   "codemirror_mode": {
    "name": "ipython",
    "version": 3
   },
   "file_extension": ".py",
   "mimetype": "text/x-python",
   "name": "python",
   "nbconvert_exporter": "python",
   "pygments_lexer": "ipython3",
   "version": "3.10.9"
  }
 },
 "nbformat": 4,
 "nbformat_minor": 5
}
